{
 "cells": [
  {
   "cell_type": "code",
   "execution_count": null,
   "metadata": {},
   "outputs": [],
   "source": [
    "import numpy as np\n",
    "import json,re\n",
    "\n",
    "train_data = json.load(open('/content/gdrive/Shareddrives/슈퍼학부생 CREW/hackathon_2-2/data/train/MedQuAD_v1.0_train.json'))\n",
    "dev_data = json.load(open('/content/gdrive/Shareddrives/슈퍼학부생 CREW/hackathon_2-2/data/dev/dev.json'))\n",
    "dev_data['data'][0]\n",
    "\n",
    "question_ex = {}\n",
    "txt = []\n",
    "for m in range(len(dev_data['data'])):\n",
    "    question = dev_data['data'][m]['paragraphs'][0]['qas'][0]['question']\n",
    "    txt.append(question)\n",
    "    \n",
    "for i in set(txt):\n",
    "    question_ex[i] = []\n",
    "    \n",
    "for m in range(len(dev_data['data'])):\n",
    "    question = dev_data['data'][m]['paragraphs'][0]['qas'][0]['question']\n",
    "    text = dev_data['data'][m]['paragraphs'][0]['qas'][0]['answers'][0]['text']\n",
    "    question_ex[question].append(text)\n",
    "    \n",
    "for i in question_ex:\n",
    "    question_ex[i] = np.unique(question_ex[i]).tolist()\n",
    "    \n",
    "for m in range(len(train_data['data'])):\n",
    "    for ans in range(len(train_data['data'][m]['paragraphs'][0]['qas'])):        \n",
    "        question = train_data['data'][m]['paragraphs'][0]['qas'][ans]['question']\n",
    "        text = train_data['data'][m]['paragraphs'][0]['qas'][0]['answers'][0]['text']\n",
    "        question_ex[question].append(text)\n",
    "        \n",
    "for i in question_ex:\n",
    "    question_ex[i] = np.unique(question_ex[i]).tolist()\n",
    "with open('/content/gdrive/Shareddrives/슈퍼학부생 CREW/hackathon_2-2/src/question_ex.json', 'w', encoding='utf-8') as make_file:\n",
    "    json.dump(question_ex, make_file)\n",
    "\n",
    "with open('/content/gdrive/Shareddrives/슈퍼학부생 CREW/hackathon_2-2/src/question_ex.json') as f:\n",
    "    question_ex = json.load(f)"
   ]
  }
 ],
 "metadata": {
  "kernelspec": {
   "display_name": "Python 3",
   "language": "python",
   "name": "python3"
  },
  "language_info": {
   "codemirror_mode": {
    "name": "ipython",
    "version": 3
   },
   "file_extension": ".py",
   "mimetype": "text/x-python",
   "name": "python",
   "nbconvert_exporter": "python",
   "pygments_lexer": "ipython3",
   "version": "3.8.3"
  }
 },
 "nbformat": 4,
 "nbformat_minor": 4
}
